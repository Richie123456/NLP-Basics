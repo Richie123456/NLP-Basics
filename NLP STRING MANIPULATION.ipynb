{
 "cells": [
  {
   "cell_type": "code",
   "execution_count": 1,
   "metadata": {},
   "outputs": [],
   "source": [
    "text = \"The Eton-educated, non-binary British Iraqi had always struggled with their identity, until they discovered drag. Yet the 29 year old says the performances come at a high price\""
   ]
  },
  {
   "cell_type": "code",
   "execution_count": 3,
   "metadata": {},
   "outputs": [
    {
     "data": {
      "text/plain": [
       "['the eton-educated, non-binary british iraqi had always struggled with their identity, until they discovered drag',\n",
       " ' yet the 29 year old says the performances come at a high price']"
      ]
     },
     "execution_count": 3,
     "metadata": {},
     "output_type": "execute_result"
    }
   ],
   "source": [
    "# Split text on fullstop\n",
    "text.lower().split(\".\")"
   ]
  },
  {
   "cell_type": "code",
   "execution_count": 6,
   "metadata": {},
   "outputs": [
    {
     "data": {
      "text/plain": [
       "['The',\n",
       " 'Eton-educated,',\n",
       " 'non-binary',\n",
       " 'British',\n",
       " 'Iraqi',\n",
       " 'had',\n",
       " 'always',\n",
       " 'struggled',\n",
       " 'with',\n",
       " 'their',\n",
       " 'identity,',\n",
       " 'until',\n",
       " 'they',\n",
       " 'discovered',\n",
       " 'drag.',\n",
       " 'Yet',\n",
       " 'the',\n",
       " '29',\n",
       " 'year',\n",
       " 'old',\n",
       " 'says',\n",
       " 'the',\n",
       " 'performances',\n",
       " 'come',\n",
       " 'at',\n",
       " 'a',\n",
       " 'high',\n",
       " 'price']"
      ]
     },
     "execution_count": 6,
     "metadata": {},
     "output_type": "execute_result"
    }
   ],
   "source": [
    "# Or we can splti text on each empty spaces \n",
    "text.split(\" \")"
   ]
  },
  {
   "cell_type": "code",
   "execution_count": 15,
   "metadata": {},
   "outputs": [
    {
     "data": {
      "text/plain": [
       "171"
      ]
     },
     "execution_count": 15,
     "metadata": {},
     "output_type": "execute_result"
    }
   ],
   "source": [
    "# Lets try to find the position of a word from the text\n",
    "text.find(\"price\")"
   ]
  },
  {
   "cell_type": "code",
   "execution_count": 16,
   "metadata": {},
   "outputs": [
    {
     "data": {
      "text/plain": [
       "'The Eton-educated, non-binary British Iraqi had always struggled with their identity, until they discovered drag. Yet the 29 year old says the performances come at a high Prices'"
      ]
     },
     "execution_count": 16,
     "metadata": {},
     "output_type": "execute_result"
    }
   ],
   "source": [
    "# We can also replace certain text\n",
    "text.replace(\"price\",\"Prices\")"
   ]
  },
  {
   "cell_type": "code",
   "execution_count": 19,
   "metadata": {},
   "outputs": [],
   "source": [
    "# Defining stopwords\n",
    "\n",
    "stopwords_en = ['i', 'me', 'my', 'myself', 'we', 'our', 'ours', \n",
    "                'ourselves', 'you', \"you're\", \"you've\", \"you'll\", \n",
    "                \"you'd\", 'your', 'yours', 'yourself', 'yourselves', \n",
    "                'he', 'him', 'his', 'himself', 'she', \"she's\", 'her', \n",
    "                'hers', 'herself', 'it', \"it's\", 'its', 'itself', \n",
    "                'they', 'them', 'their', 'theirs', 'themselves', 'what', \n",
    "                'which', 'who', 'whom', 'this', 'that', \"that'll\", 'these', \n",
    "                'those', 'am', 'is', 'are', 'was', 'were', 'be', 'been', 'being', \n",
    "                'have', 'has', 'had', 'having', 'do', 'does', 'did', 'doing', 'a', \n",
    "                'an', 'the', 'and', 'but', 'if', 'or', 'because', 'as', 'until', \n",
    "                'while', 'of', 'at', 'by', 'for', 'with', 'about', 'against', \n",
    "                'between', 'into', 'through', 'during', 'before', 'after', 'above', \n",
    "                'below', 'to', 'from', 'up', 'down', 'in', 'out', 'on', 'off', 'over', \n",
    "                'under', 'again', 'further', 'then', 'once', 'here', 'there', 'when', \n",
    "                'where', 'why', 'how', 'all', 'any', 'both', 'each', 'few', \n",
    "                'more', 'most', 'other', 'some', 'such', 'no', 'nor', 'not', \n",
    "                'only', 'own', 'same', 'so', 'than', 'too', 'very', 's', 't', 'can', 'will', 'just', \n",
    "                'don', \"don't\", 'should', \"should've\", 'now', 'd', 'll', 'm', 'o', 're', 've', \n",
    "                'y', 'ain', 'aren', \"aren't\", 'couldn', \"couldn't\", 'didn', \"didn't\", 'doesn', \n",
    "                \"doesn't\", 'hadn', \"hadn't\", 'hasn', \"hasn't\", 'haven', \"haven't\", 'isn', \n",
    "                \"isn't\", 'ma', 'mightn', \"mightn't\", 'mustn', \"mustn't\", 'needn', \"needn't\", \n",
    "                'shan', \"shan't\", 'shouldn', \"shouldn't\", 'wasn', \"wasn't\", 'weren', \"weren't\", \n",
    "                'won', \"won't\", 'wouldn', \"wouldn't\"]"
   ]
  },
  {
   "cell_type": "code",
   "execution_count": 21,
   "metadata": {},
   "outputs": [
    {
     "data": {
      "text/plain": [
       "['eton-educated,',\n",
       " 'non-binary',\n",
       " 'british',\n",
       " 'iraqi',\n",
       " 'always',\n",
       " 'struggled',\n",
       " 'identity,',\n",
       " 'discovered',\n",
       " 'drag.',\n",
       " 'yet',\n",
       " '29',\n",
       " 'year',\n",
       " 'old',\n",
       " 'says',\n",
       " 'performances',\n",
       " 'come',\n",
       " 'high',\n",
       " 'price']"
      ]
     },
     "execution_count": 21,
     "metadata": {},
     "output_type": "execute_result"
    }
   ],
   "source": [
    "# From text lets try to take out all stopwords\n",
    "[word for word in text.lower().split() if word not in stopwords_en]"
   ]
  },
  {
   "cell_type": "code",
   "execution_count": 23,
   "metadata": {},
   "outputs": [],
   "source": [
    "import re"
   ]
  },
  {
   "cell_type": "code",
   "execution_count": 24,
   "metadata": {},
   "outputs": [
    {
     "data": {
      "text/plain": [
       "['eton-educated',\n",
       " 'non-binary',\n",
       " 'british',\n",
       " 'iraqi',\n",
       " 'always',\n",
       " 'struggled',\n",
       " 'identity',\n",
       " 'discovered',\n",
       " 'drag',\n",
       " 'yet',\n",
       " 'year',\n",
       " 'old',\n",
       " 'says',\n",
       " 'performances',\n",
       " 'come',\n",
       " 'high',\n",
       " 'price']"
      ]
     },
     "execution_count": 24,
     "metadata": {},
     "output_type": "execute_result"
    }
   ],
   "source": [
    "# Let's combine that and add another condition \"No numbers\"\n",
    "[word.strip(r'[\" ,.!?:;\"]') for word in text.lower().split() if word not in stopwords_en and not word.isdigit()]"
   ]
  },
  {
   "cell_type": "code",
   "execution_count": 32,
   "metadata": {},
   "outputs": [],
   "source": [
    "import nltk\n"
   ]
  },
  {
   "cell_type": "code",
   "execution_count": 27,
   "metadata": {},
   "outputs": [],
   "source": [
    "# import tool for tokenizing sentences\n",
    "from nltk.tokenize import sent_tokenize"
   ]
  },
  {
   "cell_type": "code",
   "execution_count": 33,
   "metadata": {},
   "outputs": [
    {
     "name": "stderr",
     "output_type": "stream",
     "text": [
      "[nltk_data] Downloading package punkt to\n",
      "[nltk_data]     C:\\Users\\PRISCILLA\\AppData\\Roaming\\nltk_data...\n",
      "[nltk_data]   Unzipping tokenizers\\punkt.zip.\n",
      "[nltk_data] Downloading package stopwords to\n",
      "[nltk_data]     C:\\Users\\PRISCILLA\\AppData\\Roaming\\nltk_data...\n",
      "[nltk_data]   Unzipping corpora\\stopwords.zip.\n"
     ]
    },
    {
     "data": {
      "text/plain": [
       "True"
      ]
     },
     "execution_count": 33,
     "metadata": {},
     "output_type": "execute_result"
    }
   ],
   "source": [
    "nltk.download('punkt')\n",
    "nltk.download('stopwords')"
   ]
  },
  {
   "cell_type": "code",
   "execution_count": 28,
   "metadata": {},
   "outputs": [],
   "source": [
    "# import tool for tokenizing words\n",
    "from nltk.tokenize import word_tokenize"
   ]
  },
  {
   "cell_type": "code",
   "execution_count": 34,
   "metadata": {},
   "outputs": [
    {
     "name": "stdout",
     "output_type": "stream",
     "text": [
      "['The Eton-educated, non-binary British Iraqi had always struggled with their identity, until they discovered drag.', 'Yet the 29 year old says the performances come at a high price']\n"
     ]
    }
   ],
   "source": [
    "sentences = sent_tokenize(text)\n",
    "print(sentences)"
   ]
  },
  {
   "cell_type": "code",
   "execution_count": 41,
   "metadata": {
    "scrolled": true
   },
   "outputs": [
    {
     "name": "stdout",
     "output_type": "stream",
     "text": [
      "['The', 'Eton-educated', ',', 'non-binary', 'British', 'Iraqi', 'had', 'always', 'struggled', 'with', 'their', 'identity', ',', 'until', 'they', 'discovered', 'drag', '.']\n"
     ]
    }
   ],
   "source": [
    "#Use word tokenize to tokenize the 3rd sentence: tokenized_sent\n",
    "tokenized_sent = word_tokenize(sentences[0])\n",
    "print(tokenized_sent)"
   ]
  },
  {
   "cell_type": "code",
   "execution_count": 42,
   "metadata": {},
   "outputs": [
    {
     "name": "stdout",
     "output_type": "stream",
     "text": [
      "{'29', '.', 'Eton-educated', 'performances', 'year', ',', 'discovered', 'non-binary', 'their', 'Yet', 'the', 'come', 'identity', 'with', 'old', 'says', 'at', 'price', 'until', 'The', 'always', 'drag', 'they', 'British', 'high', 'a', 'struggled', 'Iraqi', 'had'}\n"
     ]
    }
   ],
   "source": [
    "# Make a set of unique tokens in the entire scene: unique_tokens\n",
    "unique_tokens = set(word_tokenize(text))\n",
    "print(unique_tokens)"
   ]
  },
  {
   "cell_type": "code",
   "execution_count": 46,
   "metadata": {},
   "outputs": [],
   "source": [
    "# importing stopwords from nltk library\n",
    "from nltk.corpus import stopwords\n",
    "\n",
    "stop_words = set(stopwords.words('english'))"
   ]
  },
  {
   "cell_type": "code",
   "execution_count": 48,
   "metadata": {
    "scrolled": true
   },
   "outputs": [
    {
     "name": "stdout",
     "output_type": "stream",
     "text": [
      "{'and', 'our', 'my', 'wasn', 'by', 'over', \"should've\", 'where', 'her', 'were', 'if', 'me', 'himself', 'their', 'these', 'been', 'because', 'then', 'hers', 'an', 'at', 'nor', 'weren', 'aren', 'some', 'again', \"that'll\", 'having', 'did', \"hadn't\", 'are', 'has', 'when', 'down', 'after', 'theirs', 'not', 'his', 'out', 'isn', 'was', 'i', 'is', 'm', 'had', 't', \"she's\", 'ourselves', \"don't\", \"needn't\", 'it', 'itself', 'those', 'he', 'does', \"aren't\", 'once', 'here', 'above', 'on', 'have', 'am', \"isn't\", 'before', 'won', 'below', 'further', 'should', 'for', 'd', 'o', 'him', 'yourself', 'but', 're', 'its', 'against', 'both', 'up', 'into', 'than', \"didn't\", 'ours', 'what', 'of', 'any', \"shouldn't\", 'to', 'we', 'from', \"shan't\", \"hasn't\", 'ma', \"wasn't\", 'own', 'doing', 'don', 'hasn', 'under', 'who', 'couldn', 'through', 'more', 'in', 'very', 'mightn', 'with', 'as', 'yours', 'between', 'didn', 'them', \"it's\", 'your', 'other', 'they', 'be', 'during', \"couldn't\", 'hadn', \"won't\", 'yourselves', 'whom', 'so', 's', 'themselves', 'that', 'she', \"doesn't\", 'can', 'needn', 'herself', \"you'll\", 'off', 'do', 've', 'each', 'or', 'no', 'myself', 'same', \"wouldn't\", \"you'd\", 'y', 'shan', 'while', 'this', 'wouldn', 'most', 'all', \"weren't\", 'you', 'the', 'why', 'only', 'about', 'there', 'just', 'll', 'until', 'doesn', 'will', 'shouldn', 'too', \"mustn't\", 'haven', \"you've\", 'ain', \"mightn't\", 'now', 'such', 'how', \"you're\", 'which', 'being', 'a', 'mustn', 'few', \"haven't\"}\n"
     ]
    }
   ],
   "source": [
    "print(stop_words)"
   ]
  },
  {
   "cell_type": "code",
   "execution_count": 52,
   "metadata": {},
   "outputs": [
    {
     "data": {
      "text/plain": [
       "['the',\n",
       " 'eton-educated',\n",
       " ',',\n",
       " 'non-binary',\n",
       " 'british',\n",
       " 'iraqi',\n",
       " 'always',\n",
       " 'struggled',\n",
       " 'identity',\n",
       " ',',\n",
       " 'discovered',\n",
       " 'drag',\n",
       " '.',\n",
       " 'yet',\n",
       " '29',\n",
       " 'year',\n",
       " 'old',\n",
       " 'says',\n",
       " 'performances',\n",
       " 'come',\n",
       " 'high',\n",
       " 'price']"
      ]
     },
     "execution_count": 52,
     "metadata": {},
     "output_type": "execute_result"
    }
   ],
   "source": [
    "[word.lower() for word in word_tokenize(text)if word not in stop_words]"
   ]
  },
  {
   "cell_type": "code",
   "execution_count": null,
   "metadata": {},
   "outputs": [],
   "source": []
  }
 ],
 "metadata": {
  "kernelspec": {
   "display_name": "Python 3",
   "language": "python",
   "name": "python3"
  },
  "language_info": {
   "codemirror_mode": {
    "name": "ipython",
    "version": 3
   },
   "file_extension": ".py",
   "mimetype": "text/x-python",
   "name": "python",
   "nbconvert_exporter": "python",
   "pygments_lexer": "ipython3",
   "version": "3.7.6"
  }
 },
 "nbformat": 4,
 "nbformat_minor": 4
}
